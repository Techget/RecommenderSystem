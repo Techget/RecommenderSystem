{
 "cells": [
  {
   "cell_type": "code",
   "execution_count": 65,
   "metadata": {
    "collapsed": false,
    "deletable": true,
    "editable": true
   },
   "outputs": [],
   "source": [
    "import pandas as pd\n",
    "import numpy as np\n",
    "from scipy.sparse.linalg import lsqr\n",
    "from sklearn.metrics import mean_squared_error\n",
    "import scipy.sparse as sps"
   ]
  },
  {
   "cell_type": "code",
   "execution_count": 66,
   "metadata": {
    "collapsed": false,
    "deletable": true,
    "editable": true
   },
   "outputs": [],
   "source": [
    "names = ['user_id', 'item_id', 'rating', 'timestamp']\n",
    "trainingset_file = 'ml-100k/u3.base'\n",
    "testset_file= 'ml-100k/u3.test'\n",
    "n_users = 943\n",
    "n_items = 1682\n",
    "ratings = np.zeros((n_users, n_items))\n",
    "\n",
    "df = pd.read_csv(trainingset_file, sep='\\t', names=names)\n",
    "\n",
    "TIME_RANGE_DIVIDEND = 5\n",
    "\n",
    "min_time = None\n",
    "max_time = None\n",
    "for row in df.itertuples():\n",
    "    if min_time == None:\n",
    "        min_time = row[4]\n",
    "        max_time = row[4]\n",
    "    \n",
    "    if row[4] < min_time:\n",
    "        min_time = row[4]\n",
    "    \n",
    "    if row[4] > max_time:\n",
    "        max_time = row[4]\n",
    "\n",
    "# need to plus for edge case, since for the max_time - min_time / 5 should be less than 5\n",
    "time_range_length = (int)((max_time - min_time) / TIME_RANGE_DIVIDEND) + 1\n",
    "\n",
    "\n",
    "vector_b = [[] for y in range(TIME_RANGE_DIVIDEND)]\n",
    "\n",
    "row_index = [[] for y in range(TIME_RANGE_DIVIDEND)]\n",
    "col_index = [[] for y in range(TIME_RANGE_DIVIDEND)]\n",
    "rate_list = [[] for y in range(TIME_RANGE_DIVIDEND)]\n",
    "\n",
    "## preserve the data base on timestamp\n",
    "data_list = [[] for y in range(TIME_RANGE_DIVIDEND)]\n",
    "\n",
    "i = [0,0,0,0,0]\n",
    "for row in df.itertuples():\n",
    "    ratings[row[1]-1, row[2]-1] = row[3]\n",
    "    time_slot = (int)((row[4] - min_time) / time_range_length)\n",
    "    \n",
    "    data_list[time_slot].append(row[1:4])\n",
    "    \n",
    "    row_index[time_slot].append(i[time_slot])\n",
    "    col_index[time_slot].append(row[1] -1)\n",
    "    rate_list[time_slot].append(1)\n",
    "    row_index[time_slot].append(i[time_slot])\n",
    "    col_index[time_slot].append(row[2]-1 + n_users)\n",
    "    rate_list[time_slot].append(1)\n",
    "    vector_b[time_slot].append(row[3])\n",
    "    \n",
    "    i[time_slot] += 1\n",
    "\n",
    "matrix_A_list = []\n",
    "for j in range(0, TIME_RANGE_DIVIDEND):\n",
    "    row = np.array(row_index[j])\n",
    "    col = np.array(col_index[j])\n",
    "    rate = np.array(rate_list[j])\n",
    "    matrix_A_list.append(sps.coo_matrix((rate, (row, col)), shape=(len(row)/2,n_users+n_items)))\n",
    "\n",
    "# clear temporary data\n",
    "del row_index[:]\n",
    "del row_index\n",
    "del col_index[:]\n",
    "del col_index\n",
    "del rate_list[:]\n",
    "del rate_list\n",
    "\n",
    "\n",
    "# print(matrix_A)"
   ]
  },
  {
   "cell_type": "code",
   "execution_count": 67,
   "metadata": {
    "collapsed": false,
    "deletable": true,
    "editable": true
   },
   "outputs": [
    {
     "name": "stdout",
     "output_type": "stream",
     "text": [
      "[3.5714902807775379, 3.5621575342465754, 3.4556953729191244, 3.4428491216812387, 3.5952079866888518]\n"
     ]
    }
   ],
   "source": [
    "all_mean_list = []\n",
    "\n",
    "for i in range(0, TIME_RANGE_DIVIDEND): \n",
    "    temp_list = []\n",
    "    for row in data_list[i]:\n",
    "        temp_list.append(row[2])\n",
    "    temp_np_arr = np.array(temp_list)\n",
    "    all_mean_list.append(np.mean(temp_np_arr[temp_np_arr!=0]))\n",
    "    vector_b[i][:] = [x - all_mean_list[i] for x in vector_b[i]]\n",
    "\n",
    "print(\"all_mean_list: \", all_mean_list)\n",
    "# print(vector_b)\n",
    "# print(vector_b)\n",
    "# print(vector_b[:5])\n",
    "\n",
    "# print(vector_b[:10])"
   ]
  },
  {
   "cell_type": "code",
   "execution_count": 68,
   "metadata": {
    "collapsed": false,
    "deletable": true,
    "editable": true
   },
   "outputs": [
    {
     "name": "stdout",
     "output_type": "stream",
     "text": [
      "(13890, 2625)\n",
      "13890\n",
      "[-0.12970215  0.          0.          0.         -0.65115339]\n",
      "(23360, 2625)\n",
      "23360\n",
      "[-0.29571164  0.          0.          0.         -0.90746737]\n",
      "(15258, 2625)\n",
      "15258\n",
      "[-0.76711151  0.          0.          0.          0.        ]\n",
      "(12467, 2625)\n",
      "12467\n",
      "[ 0.10602819 -0.04959629 -0.49728202  0.          0.        ]\n",
      "(15025, 2625)\n",
      "15025\n",
      "[ 0.00617896  0.          0.          0.67091029  0.        ]\n"
     ]
    }
   ],
   "source": [
    "bu_and_bi_list = []\n",
    "\n",
    "## least square with regularization\n",
    "for i in range(0, TIME_RANGE_DIVIDEND):\n",
    "    print(matrix_A_list[i].toarray().shape)\n",
    "    print(len(vector_b[i]))\n",
    "    return_values = lsqr(matrix_A_list[i].toarray(), vector_b[i], damp = 1)\n",
    "    bu_and_bi = return_values[0]\n",
    "    print(bu_and_bi[:5])\n",
    "    bu_and_bi_list.append(bu_and_bi)"
   ]
  },
  {
   "cell_type": "code",
   "execution_count": 69,
   "metadata": {
    "collapsed": true,
    "deletable": true,
    "editable": true
   },
   "outputs": [],
   "source": [
    "def rmse(pred, actual):\n",
    "    '''计算预测结果的rmse'''\n",
    "    pred = pred[actual.nonzero()].flatten()\n",
    "    actual = actual[actual.nonzero()].flatten()\n",
    "    return np.sqrt(mean_squared_error(pred, actual))"
   ]
  },
  {
   "cell_type": "code",
   "execution_count": 70,
   "metadata": {
    "collapsed": false,
    "deletable": true,
    "editable": true
   },
   "outputs": [],
   "source": [
    "def predict_naive(user, item, timestamp):\n",
    "    time_slot = (int)((timestamp - min_time) / time_range_length)\n",
    "    prediction = all_mean_list[time_slot] + bu_and_bi_list[time_slot][user] + bu_and_bi_list[time_slot][n_users -1 + item]\n",
    "    return prediction"
   ]
  },
  {
   "cell_type": "code",
   "execution_count": 93,
   "metadata": {
    "collapsed": false,
    "deletable": true,
    "editable": true
   },
   "outputs": [
    {
     "name": "stdout",
     "output_type": "stream",
     "text": [
      "载入测试集...\n",
      "测试集大小为 20000\n",
      "采用Naive算法进行预测...\n",
      "测试结果的rmse为 1.0957\n"
     ]
    }
   ],
   "source": [
    "print('载入测试集...')\n",
    "test_df = pd.read_csv(testset_file, sep='\\t', names=names)\n",
    "test_df.head()\n",
    "predictions = []\n",
    "targets = []\n",
    "print('测试集大小为 %d' % len(test_df))\n",
    "print('采用Naive算法进行预测...')\n",
    "for row in test_df.itertuples():\n",
    "    user, item, actual, timestamp = row[1]-1, row[2]-1, row[3], row[4]\n",
    "    predictions.append(predict_naive(user, item, timestamp))\n",
    "    targets.append(actual)\n",
    "\n",
    "print('测试结果的rmse为 %.4f' % rmse(np.array(predictions), np.array(targets)))"
   ]
  },
  {
   "cell_type": "code",
   "execution_count": 105,
   "metadata": {
    "collapsed": true
   },
   "outputs": [],
   "source": [
    "# rating to rating_delta, need to do the shift, prepare for the top-k neighbor\n",
    "for row in df.itertuples():\n",
    "    time_slot = (int)((row[4] - min_time) / time_range_length)\n",
    "    ratings[row[1]-1, row[2]-1] = row[3] - \\\n",
    "        (all_mean_list[time_slot] + bu_and_bi_list[time_slot][row[1]-1] + bu_and_bi_list[time_slot][n_users -1 + row[2]-1])"
   ]
  },
  {
   "cell_type": "code",
   "execution_count": 109,
   "metadata": {
    "collapsed": false
   },
   "outputs": [
    {
     "name": "stdout",
     "output_type": "stream",
     "text": [
      "[[ 1.    -0.121 -0.061  0.079  0.011  0.055  0.075  0.072 -0.002 -0.044]\n",
      " [-0.121  1.     0.006 -0.117 -0.024 -0.021 -0.099  0.03  -0.056 -0.002]\n",
      " [-0.061  0.006  1.    -0.066  0.009  0.01  -0.065 -0.09  -0.061 -0.01 ]\n",
      " [ 0.079 -0.117 -0.066  1.    -0.074  0.006  0.076  0.077  0.025  0.008]\n",
      " [ 0.011 -0.024  0.009 -0.074  1.    -0.028 -0.039 -0.036  0.013 -0.038]\n",
      " [ 0.055 -0.021  0.01   0.006 -0.028  1.     0.016 -0.05   0.05  -0.005]\n",
      " [ 0.075 -0.099 -0.065  0.076 -0.039  0.016  1.     0.018  0.084 -0.008]\n",
      " [ 0.072  0.03  -0.09   0.077 -0.036 -0.05   0.018  1.    -0.027  0.029]\n",
      " [-0.002 -0.056 -0.061  0.025  0.013  0.05   0.084 -0.027  1.    -0.014]\n",
      " [-0.044 -0.002 -0.01   0.008 -0.038 -0.005 -0.008  0.029 -0.014  1.   ]]\n"
     ]
    }
   ],
   "source": [
    "def cos_distance(ratings, kind, epsilon=1e-9):\n",
    "    '''利用Cosine距离计算相似度'''\n",
    "    '''epsilon: 防止Divide-by-zero错误，进行矫正'''\n",
    "    if kind == 'user':\n",
    "        sim = ratings.dot(ratings.T) + epsilon\n",
    "    elif kind == 'item':\n",
    "        sim = ratings.T.dot(ratings) + epsilon\n",
    "    norms = np.array([np.sqrt(np.diagonal(sim))])\n",
    "    return (sim / norms / norms.T)\n",
    "\n",
    "item_similarity = cos_distance(ratings, 'item')\n",
    "print(np.round_(item_similarity[:10,:10], 3))"
   ]
  },
  {
   "cell_type": "code",
   "execution_count": 122,
   "metadata": {
    "collapsed": true
   },
   "outputs": [],
   "source": [
    "import math\n",
    "\n",
    "'''incorporate top-k neighbor, and improved baseline predictor'''\n",
    "def predict_topkCF(user, item, timestamp, k=30):\n",
    "    '''top-k CF算法,以item-item协同过滤为基础，结合baseline,预测rating'''\n",
    "    nzero = ratings[user].nonzero()[0]\n",
    "    baseline = []\n",
    "    time_slot = (int)((timestamp - min_time) / time_range_length)\n",
    "    \n",
    "    for item_num in nzero:    \n",
    "        temp = bu_and_bi_list[time_slot][user] + bu_and_bi_list[time_slot][n_users -1 + item_num]\n",
    "        baseline.append(temp)\n",
    "    \n",
    "    choices = nzero[item_similarity[item, nzero].argsort()[::-1][:k]]\n",
    "    \n",
    "    distance_sum = 0\n",
    "    for choice in choices:\n",
    "        distance_sum += math.fabs(item_similarity[item, choice])\n",
    "        \n",
    "    neighbor_contribution = 0\n",
    "    for choice in choices:\n",
    "        neighbor_contribution += (item_similarity[item, choice]/distance_sum)*ratings[user, choice]\n",
    "    \n",
    "    item_baseline = all_mean_list[time_slot] + bu_and_bi_list[time_slot][user] + \\\n",
    "        bu_and_bi_list[time_slot][n_users -1 + item]\n",
    "        \n",
    "    prediction = item_baseline + neighbor_contribution\n",
    "    \n",
    "    if prediction > 5: prediction = 5\n",
    "    if prediction < 0.5: prediction = 0.5\n",
    "    return prediction "
   ]
  },
  {
   "cell_type": "code",
   "execution_count": 123,
   "metadata": {
    "collapsed": false
   },
   "outputs": [
    {
     "name": "stdout",
     "output_type": "stream",
     "text": [
      "载入测试集...\n",
      "测试集大小为 20000\n",
      "采用结合baseline的item-item协同过滤算法进行预测...\n",
      "测试结果的rmse为 0.9765\n",
      "\n"
     ]
    }
   ],
   "source": [
    "print('载入测试集...')\n",
    "test_df = pd.read_csv(testset_file, sep='\\t', names=names)\n",
    "test_df.head()\n",
    "predictions = []\n",
    "targets = []\n",
    "print('测试集大小为 %d' % len(test_df))\n",
    "print('采用结合baseline的item-item协同过滤算法进行预测...')\n",
    "for row in test_df.itertuples():\n",
    "    user, item, actual, timestamp = row[1]-1, row[2]-1, row[3], row[4]\n",
    "    predictions.append(predict_topkCF(user, item, timestamp))\n",
    "    targets.append(actual)\n",
    "\n",
    "print('测试结果的rmse为 %.4f' % rmse(np.array(predictions), np.array(targets)))\n",
    "print()"
   ]
  },
  {
   "cell_type": "code",
   "execution_count": null,
   "metadata": {
    "collapsed": true
   },
   "outputs": [],
   "source": []
  }
 ],
 "metadata": {
  "kernelspec": {
   "display_name": "Python 3",
   "language": "python",
   "name": "python3"
  },
  "language_info": {
   "codemirror_mode": {
    "name": "ipython",
    "version": 3
   },
   "file_extension": ".py",
   "mimetype": "text/x-python",
   "name": "python",
   "nbconvert_exporter": "python",
   "pygments_lexer": "ipython3",
   "version": "3.5.2"
  }
 },
 "nbformat": 4,
 "nbformat_minor": 2
}
